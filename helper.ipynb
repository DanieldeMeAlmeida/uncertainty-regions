{
 "cells": [
  {
   "cell_type": "code",
   "execution_count": 2,
   "metadata": {},
   "outputs": [],
   "source": [
    "import pandas as pd\n",
    "dataset_df = pd.read_csv(\"data/iris.csv\")\n",
    "errors_df = pd.read_csv(\"data/errors.csv\")"
   ]
  },
  {
   "cell_type": "code",
   "execution_count": 4,
   "metadata": {},
   "outputs": [
    {
     "name": "stdout",
     "output_type": "stream",
     "text": [
      "Mining relevant subgroups...\n",
      "     sepal length (cm)  sepal width (cm)  petal length (cm)  petal width (cm)  \\\n",
      "0                  5.1               3.5                1.4               0.2   \n",
      "1                  4.9               3.0                1.4               0.2   \n",
      "2                  4.7               3.2                1.3               0.2   \n",
      "3                  4.6               3.1                1.5               0.2   \n",
      "4                  5.0               3.6                1.4               0.2   \n",
      "..                 ...               ...                ...               ...   \n",
      "145                6.7               3.0                5.2               2.3   \n",
      "146                6.3               2.5                5.0               1.9   \n",
      "147                6.5               3.0                5.2               2.0   \n",
      "148                6.2               3.4                5.4               2.3   \n",
      "149                5.9               3.0                5.1               1.8   \n",
      "\n",
      "       0     1     2  \n",
      "0    0.0  0.00  0.00  \n",
      "1    0.0  0.00  0.00  \n",
      "2    0.0  0.00  0.00  \n",
      "3    0.0  0.00  0.00  \n",
      "4    0.0  0.00  0.00  \n",
      "..   ...   ...   ...  \n",
      "145  0.0  0.01  0.01  \n",
      "146  0.0  0.01  0.02  \n",
      "147  0.0  0.00  0.01  \n",
      "148  0.0  0.00  0.00  \n",
      "149  0.0  0.01  0.05  \n",
      "\n",
      "[150 rows x 7 columns]\n"
     ]
    },
    {
     "ename": "KeyError",
     "evalue": "0",
     "output_type": "error",
     "traceback": [
      "\u001b[0;31m---------------------------------------------------------------------------\u001b[0m",
      "\u001b[0;31mKeyError\u001b[0m                                  Traceback (most recent call last)",
      "File \u001b[0;32m~/ufmg/poc/uncertainty-regions/venv/lib/python3.10/site-packages/pandas/core/indexes/base.py:3790\u001b[0m, in \u001b[0;36mIndex.get_loc\u001b[0;34m(self, key)\u001b[0m\n\u001b[1;32m   3789\u001b[0m \u001b[39mtry\u001b[39;00m:\n\u001b[0;32m-> 3790\u001b[0m     \u001b[39mreturn\u001b[39;00m \u001b[39mself\u001b[39;49m\u001b[39m.\u001b[39;49m_engine\u001b[39m.\u001b[39;49mget_loc(casted_key)\n\u001b[1;32m   3791\u001b[0m \u001b[39mexcept\u001b[39;00m \u001b[39mKeyError\u001b[39;00m \u001b[39mas\u001b[39;00m err:\n",
      "File \u001b[0;32mindex.pyx:152\u001b[0m, in \u001b[0;36mpandas._libs.index.IndexEngine.get_loc\u001b[0;34m()\u001b[0m\n",
      "File \u001b[0;32mindex.pyx:181\u001b[0m, in \u001b[0;36mpandas._libs.index.IndexEngine.get_loc\u001b[0;34m()\u001b[0m\n",
      "File \u001b[0;32mpandas/_libs/hashtable_class_helper.pxi:7080\u001b[0m, in \u001b[0;36mpandas._libs.hashtable.PyObjectHashTable.get_item\u001b[0;34m()\u001b[0m\n",
      "File \u001b[0;32mpandas/_libs/hashtable_class_helper.pxi:7088\u001b[0m, in \u001b[0;36mpandas._libs.hashtable.PyObjectHashTable.get_item\u001b[0;34m()\u001b[0m\n",
      "\u001b[0;31mKeyError\u001b[0m: 0",
      "\nThe above exception was the direct cause of the following exception:\n",
      "\u001b[0;31mKeyError\u001b[0m                                  Traceback (most recent call last)",
      "\u001b[1;32m/home/lfrf/ufmg/poc/uncertainty-regions/helper.ipynb Cell 2\u001b[0m line \u001b[0;36m3\n\u001b[1;32m      <a href='vscode-notebook-cell:/home/lfrf/ufmg/poc/uncertainty-regions/helper.ipynb#W1sZmlsZQ%3D%3D?line=0'>1</a>\u001b[0m \u001b[39mfrom\u001b[39;00m \u001b[39mfunctions\u001b[39;00m \u001b[39mimport\u001b[39;00m \u001b[39m*\u001b[39m\n\u001b[1;32m      <a href='vscode-notebook-cell:/home/lfrf/ufmg/poc/uncertainty-regions/helper.ipynb#W1sZmlsZQ%3D%3D?line=1'>2</a>\u001b[0m dataset_df\u001b[39m.\u001b[39mdrop(\u001b[39m\"\u001b[39m\u001b[39mtarget\u001b[39m\u001b[39m\"\u001b[39m, inplace\u001b[39m=\u001b[39m\u001b[39mTrue\u001b[39;00m, axis\u001b[39m=\u001b[39m\u001b[39m1\u001b[39m)\n\u001b[0;32m----> <a href='vscode-notebook-cell:/home/lfrf/ufmg/poc/uncertainty-regions/helper.ipynb#W1sZmlsZQ%3D%3D?line=2'>3</a>\u001b[0m subgroup_discovery(dataset_df\u001b[39m=\u001b[39;49mdataset_df, errors_df\u001b[39m=\u001b[39;49merrors_df, number_of_classes\u001b[39m=\u001b[39;49m\u001b[39m3\u001b[39;49m)\n",
      "File \u001b[0;32m~/ufmg/poc/uncertainty-regions/functions.py:154\u001b[0m, in \u001b[0;36msubgroup_discovery\u001b[0;34m(dataset_df, errors_df, number_of_classes)\u001b[0m\n\u001b[1;32m    152\u001b[0m \u001b[39mprint\u001b[39m(\u001b[39m\"\u001b[39m\u001b[39mMining relevant subgroups...\u001b[39m\u001b[39m\"\u001b[39m)\n\u001b[1;32m    153\u001b[0m \u001b[39mprint\u001b[39m(X_sd)\n\u001b[0;32m--> 154\u001b[0m result \u001b[39m=\u001b[39m ps\u001b[39m.\u001b[39;49mBeamSearch()\u001b[39m.\u001b[39;49mexecute(task\u001b[39m=\u001b[39;49mtask)\n\u001b[1;32m    155\u001b[0m \u001b[39mprint\u001b[39m(\u001b[39m\"\u001b[39m\u001b[39mofghhfghfggi\u001b[39m\u001b[39m\"\u001b[39m)\n\u001b[1;32m    156\u001b[0m df_regras \u001b[39m=\u001b[39m result\u001b[39m.\u001b[39mto_dataframe()\n",
      "File \u001b[0;32m~/ufmg/poc/uncertainty-regions/venv/lib/python3.10/site-packages/pysubgroup/algorithms.py:367\u001b[0m, in \u001b[0;36mBeamSearch.execute\u001b[0;34m(self, task)\u001b[0m\n\u001b[1;32m    361\u001b[0m \u001b[39mif\u001b[39;00m beam_width \u001b[39m<\u001b[39m task\u001b[39m.\u001b[39mresult_set_size:\n\u001b[1;32m    362\u001b[0m     \u001b[39mraise\u001b[39;00m \u001b[39mRuntimeError\u001b[39;00m(\n\u001b[1;32m    363\u001b[0m         \u001b[39m\"\u001b[39m\u001b[39mBeam width in the beam search algorithm \u001b[39m\u001b[39m\"\u001b[39m\n\u001b[1;32m    364\u001b[0m         \u001b[39m\"\u001b[39m\u001b[39mis smaller than the result set size!\u001b[39m\u001b[39m\"\u001b[39m\n\u001b[1;32m    365\u001b[0m     )\n\u001b[0;32m--> 367\u001b[0m task\u001b[39m.\u001b[39;49mqf\u001b[39m.\u001b[39;49mcalculate_constant_statistics(task\u001b[39m.\u001b[39;49mdata, task\u001b[39m.\u001b[39;49mtarget)\n\u001b[1;32m    369\u001b[0m \u001b[39m# init\u001b[39;00m\n\u001b[1;32m    370\u001b[0m beam \u001b[39m=\u001b[39m [\n\u001b[1;32m    371\u001b[0m     (\n\u001b[1;32m    372\u001b[0m         \u001b[39m0\u001b[39m,\n\u001b[0;32m   (...)\u001b[0m\n\u001b[1;32m    375\u001b[0m     )\n\u001b[1;32m    376\u001b[0m ]\n",
      "File \u001b[0;32m~/ufmg/poc/uncertainty-regions/functions.py:53\u001b[0m, in \u001b[0;36mBidirectionalQFNumeric.calculate_constant_statistics\u001b[0;34m(self, data, target)\u001b[0m\n\u001b[1;32m     51\u001b[0m \u001b[39mdef\u001b[39;00m \u001b[39mcalculate_constant_statistics\u001b[39m(\u001b[39mself\u001b[39m, data, target):\n\u001b[1;32m     52\u001b[0m     data \u001b[39m=\u001b[39m \u001b[39mself\u001b[39m\u001b[39m.\u001b[39mestimator\u001b[39m.\u001b[39mget_data(data, target)\n\u001b[0;32m---> 53\u001b[0m     \u001b[39mself\u001b[39m\u001b[39m.\u001b[39mall_target_values \u001b[39m=\u001b[39m data[target\u001b[39m.\u001b[39;49mtarget_variable]\u001b[39m.\u001b[39mto_numpy()\n\u001b[1;32m     54\u001b[0m     target_centroid \u001b[39m=\u001b[39m \u001b[39mself\u001b[39m\u001b[39m.\u001b[39magg(\u001b[39mself\u001b[39m\u001b[39m.\u001b[39mall_target_values)\n\u001b[1;32m     55\u001b[0m     data_size \u001b[39m=\u001b[39m \u001b[39mlen\u001b[39m(data)\n",
      "File \u001b[0;32m~/ufmg/poc/uncertainty-regions/venv/lib/python3.10/site-packages/pandas/core/frame.py:3893\u001b[0m, in \u001b[0;36mDataFrame.__getitem__\u001b[0;34m(self, key)\u001b[0m\n\u001b[1;32m   3891\u001b[0m \u001b[39mif\u001b[39;00m \u001b[39mself\u001b[39m\u001b[39m.\u001b[39mcolumns\u001b[39m.\u001b[39mnlevels \u001b[39m>\u001b[39m \u001b[39m1\u001b[39m:\n\u001b[1;32m   3892\u001b[0m     \u001b[39mreturn\u001b[39;00m \u001b[39mself\u001b[39m\u001b[39m.\u001b[39m_getitem_multilevel(key)\n\u001b[0;32m-> 3893\u001b[0m indexer \u001b[39m=\u001b[39m \u001b[39mself\u001b[39;49m\u001b[39m.\u001b[39;49mcolumns\u001b[39m.\u001b[39;49mget_loc(key)\n\u001b[1;32m   3894\u001b[0m \u001b[39mif\u001b[39;00m is_integer(indexer):\n\u001b[1;32m   3895\u001b[0m     indexer \u001b[39m=\u001b[39m [indexer]\n",
      "File \u001b[0;32m~/ufmg/poc/uncertainty-regions/venv/lib/python3.10/site-packages/pandas/core/indexes/base.py:3797\u001b[0m, in \u001b[0;36mIndex.get_loc\u001b[0;34m(self, key)\u001b[0m\n\u001b[1;32m   3792\u001b[0m     \u001b[39mif\u001b[39;00m \u001b[39misinstance\u001b[39m(casted_key, \u001b[39mslice\u001b[39m) \u001b[39mor\u001b[39;00m (\n\u001b[1;32m   3793\u001b[0m         \u001b[39misinstance\u001b[39m(casted_key, abc\u001b[39m.\u001b[39mIterable)\n\u001b[1;32m   3794\u001b[0m         \u001b[39mand\u001b[39;00m \u001b[39many\u001b[39m(\u001b[39misinstance\u001b[39m(x, \u001b[39mslice\u001b[39m) \u001b[39mfor\u001b[39;00m x \u001b[39min\u001b[39;00m casted_key)\n\u001b[1;32m   3795\u001b[0m     ):\n\u001b[1;32m   3796\u001b[0m         \u001b[39mraise\u001b[39;00m InvalidIndexError(key)\n\u001b[0;32m-> 3797\u001b[0m     \u001b[39mraise\u001b[39;00m \u001b[39mKeyError\u001b[39;00m(key) \u001b[39mfrom\u001b[39;00m \u001b[39merr\u001b[39;00m\n\u001b[1;32m   3798\u001b[0m \u001b[39mexcept\u001b[39;00m \u001b[39mTypeError\u001b[39;00m:\n\u001b[1;32m   3799\u001b[0m     \u001b[39m# If we have a listlike key, _check_indexing_error will raise\u001b[39;00m\n\u001b[1;32m   3800\u001b[0m     \u001b[39m#  InvalidIndexError. Otherwise we fall through and re-raise\u001b[39;00m\n\u001b[1;32m   3801\u001b[0m     \u001b[39m#  the TypeError.\u001b[39;00m\n\u001b[1;32m   3802\u001b[0m     \u001b[39mself\u001b[39m\u001b[39m.\u001b[39m_check_indexing_error(key)\n",
      "\u001b[0;31mKeyError\u001b[0m: 0"
     ]
    }
   ],
   "source": [
    "from functions import *\n",
    "dataset_df.drop(\"target\", inplace=True, axis=1)\n",
    "subgroup_discovery(dataset_df=dataset_df, errors_df=errors_df, number_of_classes=3)"
   ]
  }
 ],
 "metadata": {
  "kernelspec": {
   "display_name": "venv",
   "language": "python",
   "name": "python3"
  },
  "language_info": {
   "codemirror_mode": {
    "name": "ipython",
    "version": 3
   },
   "file_extension": ".py",
   "mimetype": "text/x-python",
   "name": "python",
   "nbconvert_exporter": "python",
   "pygments_lexer": "ipython3",
   "version": "3.10.12"
  }
 },
 "nbformat": 4,
 "nbformat_minor": 2
}
